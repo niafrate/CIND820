{
 "cells": [
  {
   "cell_type": "code",
   "execution_count": null,
   "metadata": {},
   "outputs": [],
   "source": [
    "! pip install imblearn --user"
   ]
  },
  {
   "cell_type": "code",
   "execution_count": 1,
   "metadata": {},
   "outputs": [],
   "source": [
    "import pandas as pd\n",
    "import numpy as np \n",
    "import matplotlib.pyplot as plt\n",
    "import seaborn as sns\n",
    "from imblearn.over_sampling import SMOTE\n",
    "smote = SMOTE()\n",
    "from sklearn.metrics import classification_report\n",
    "from sklearn import svm\n",
    "from sklearn.model_selection import train_test_split"
   ]
  },
  {
   "cell_type": "code",
   "execution_count": 2,
   "metadata": {},
   "outputs": [],
   "source": [
    "berka = pd.read_csv(\"C:/Users/niafrate/OneDrive - Ryerson University/CIND820/berka_cleaned.csv\")"
   ]
  },
  {
   "cell_type": "code",
   "execution_count": 3,
   "metadata": {},
   "outputs": [
    {
     "data": {
      "text/html": [
       "<div>\n",
       "<style scoped>\n",
       "    .dataframe tbody tr th:only-of-type {\n",
       "        vertical-align: middle;\n",
       "    }\n",
       "\n",
       "    .dataframe tbody tr th {\n",
       "        vertical-align: top;\n",
       "    }\n",
       "\n",
       "    .dataframe thead th {\n",
       "        text-align: right;\n",
       "    }\n",
       "</style>\n",
       "<table border=\"1\" class=\"dataframe\">\n",
       "  <thead>\n",
       "    <tr style=\"text-align: right;\">\n",
       "      <th></th>\n",
       "      <th>amount</th>\n",
       "      <th>duration</th>\n",
       "      <th>payments</th>\n",
       "      <th>frequency</th>\n",
       "      <th>date_diff</th>\n",
       "      <th>card_type</th>\n",
       "      <th>no_orders</th>\n",
       "      <th>avg_order</th>\n",
       "      <th>avg_trans</th>\n",
       "      <th>avg_bal</th>\n",
       "      <th>no_of_trans</th>\n",
       "      <th>total_inhabitants</th>\n",
       "      <th>avg_unemp_rt</th>\n",
       "      <th>avg_crime_rt</th>\n",
       "      <th>avg_salary</th>\n",
       "      <th>age_at_loan</th>\n",
       "      <th>gender</th>\n",
       "      <th>same_district</th>\n",
       "      <th>loan_status</th>\n",
       "    </tr>\n",
       "  </thead>\n",
       "  <tbody>\n",
       "    <tr>\n",
       "      <th>0</th>\n",
       "      <td>252060</td>\n",
       "      <td>60</td>\n",
       "      <td>4201</td>\n",
       "      <td>0.820475</td>\n",
       "      <td>232</td>\n",
       "      <td>0.753709</td>\n",
       "      <td>3</td>\n",
       "      <td>4194.73</td>\n",
       "      <td>6998.75</td>\n",
       "      <td>34002.08</td>\n",
       "      <td>444</td>\n",
       "      <td>1204953</td>\n",
       "      <td>0.36</td>\n",
       "      <td>0.077</td>\n",
       "      <td>12541</td>\n",
       "      <td>29</td>\n",
       "      <td>1</td>\n",
       "      <td>0</td>\n",
       "      <td>1</td>\n",
       "    </tr>\n",
       "    <tr>\n",
       "      <th>1</th>\n",
       "      <td>316140</td>\n",
       "      <td>60</td>\n",
       "      <td>5269</td>\n",
       "      <td>0.820475</td>\n",
       "      <td>683</td>\n",
       "      <td>0.753709</td>\n",
       "      <td>1</td>\n",
       "      <td>5269.00</td>\n",
       "      <td>3866.65</td>\n",
       "      <td>9629.35</td>\n",
       "      <td>414</td>\n",
       "      <td>1204953</td>\n",
       "      <td>0.36</td>\n",
       "      <td>0.077</td>\n",
       "      <td>12541</td>\n",
       "      <td>23</td>\n",
       "      <td>0</td>\n",
       "      <td>1</td>\n",
       "      <td>1</td>\n",
       "    </tr>\n",
       "    <tr>\n",
       "      <th>2</th>\n",
       "      <td>320976</td>\n",
       "      <td>48</td>\n",
       "      <td>6687</td>\n",
       "      <td>0.820475</td>\n",
       "      <td>251</td>\n",
       "      <td>0.194362</td>\n",
       "      <td>1</td>\n",
       "      <td>6687.00</td>\n",
       "      <td>13399.67</td>\n",
       "      <td>47205.48</td>\n",
       "      <td>301</td>\n",
       "      <td>1204953</td>\n",
       "      <td>0.36</td>\n",
       "      <td>0.077</td>\n",
       "      <td>12541</td>\n",
       "      <td>56</td>\n",
       "      <td>0</td>\n",
       "      <td>1</td>\n",
       "      <td>1</td>\n",
       "    </tr>\n",
       "    <tr>\n",
       "      <th>3</th>\n",
       "      <td>270648</td>\n",
       "      <td>36</td>\n",
       "      <td>7518</td>\n",
       "      <td>0.133531</td>\n",
       "      <td>307</td>\n",
       "      <td>0.753709</td>\n",
       "      <td>1</td>\n",
       "      <td>7518.00</td>\n",
       "      <td>7433.61</td>\n",
       "      <td>44437.71</td>\n",
       "      <td>408</td>\n",
       "      <td>1204953</td>\n",
       "      <td>0.36</td>\n",
       "      <td>0.077</td>\n",
       "      <td>12541</td>\n",
       "      <td>53</td>\n",
       "      <td>0</td>\n",
       "      <td>1</td>\n",
       "      <td>1</td>\n",
       "    </tr>\n",
       "    <tr>\n",
       "      <th>4</th>\n",
       "      <td>215388</td>\n",
       "      <td>36</td>\n",
       "      <td>5983</td>\n",
       "      <td>0.820475</td>\n",
       "      <td>156</td>\n",
       "      <td>0.753709</td>\n",
       "      <td>1</td>\n",
       "      <td>5983.00</td>\n",
       "      <td>7253.25</td>\n",
       "      <td>35553.19</td>\n",
       "      <td>399</td>\n",
       "      <td>1204953</td>\n",
       "      <td>0.36</td>\n",
       "      <td>0.077</td>\n",
       "      <td>12541</td>\n",
       "      <td>30</td>\n",
       "      <td>0</td>\n",
       "      <td>0</td>\n",
       "      <td>1</td>\n",
       "    </tr>\n",
       "  </tbody>\n",
       "</table>\n",
       "</div>"
      ],
      "text/plain": [
       "   amount  duration  payments  frequency  date_diff  card_type  no_orders  \\\n",
       "0  252060        60      4201   0.820475        232   0.753709          3   \n",
       "1  316140        60      5269   0.820475        683   0.753709          1   \n",
       "2  320976        48      6687   0.820475        251   0.194362          1   \n",
       "3  270648        36      7518   0.133531        307   0.753709          1   \n",
       "4  215388        36      5983   0.820475        156   0.753709          1   \n",
       "\n",
       "   avg_order  avg_trans   avg_bal  no_of_trans  total_inhabitants  \\\n",
       "0    4194.73    6998.75  34002.08          444            1204953   \n",
       "1    5269.00    3866.65   9629.35          414            1204953   \n",
       "2    6687.00   13399.67  47205.48          301            1204953   \n",
       "3    7518.00    7433.61  44437.71          408            1204953   \n",
       "4    5983.00    7253.25  35553.19          399            1204953   \n",
       "\n",
       "   avg_unemp_rt  avg_crime_rt  avg_salary  age_at_loan  gender  same_district  \\\n",
       "0          0.36         0.077       12541           29       1              0   \n",
       "1          0.36         0.077       12541           23       0              1   \n",
       "2          0.36         0.077       12541           56       0              1   \n",
       "3          0.36         0.077       12541           53       0              1   \n",
       "4          0.36         0.077       12541           30       0              0   \n",
       "\n",
       "   loan_status  \n",
       "0            1  \n",
       "1            1  \n",
       "2            1  \n",
       "3            1  \n",
       "4            1  "
      ]
     },
     "execution_count": 3,
     "metadata": {},
     "output_type": "execute_result"
    }
   ],
   "source": [
    "berka.head()"
   ]
  },
  {
   "cell_type": "code",
   "execution_count": 4,
   "metadata": {},
   "outputs": [
    {
     "name": "stdout",
     "output_type": "stream",
     "text": [
      "<class 'pandas.core.frame.DataFrame'>\n",
      "RangeIndex: 674 entries, 0 to 673\n",
      "Data columns (total 19 columns):\n",
      " #   Column             Non-Null Count  Dtype  \n",
      "---  ------             --------------  -----  \n",
      " 0   amount             674 non-null    int64  \n",
      " 1   duration           674 non-null    int64  \n",
      " 2   payments           674 non-null    int64  \n",
      " 3   frequency          674 non-null    float64\n",
      " 4   date_diff          674 non-null    int64  \n",
      " 5   card_type          674 non-null    float64\n",
      " 6   no_orders          674 non-null    int64  \n",
      " 7   avg_order          674 non-null    float64\n",
      " 8   avg_trans          674 non-null    float64\n",
      " 9   avg_bal            674 non-null    float64\n",
      " 10  no_of_trans        674 non-null    int64  \n",
      " 11  total_inhabitants  674 non-null    int64  \n",
      " 12  avg_unemp_rt       674 non-null    float64\n",
      " 13  avg_crime_rt       674 non-null    float64\n",
      " 14  avg_salary         674 non-null    int64  \n",
      " 15  age_at_loan        674 non-null    int64  \n",
      " 16  gender             674 non-null    int64  \n",
      " 17  same_district      674 non-null    int64  \n",
      " 18  loan_status        674 non-null    int64  \n",
      "dtypes: float64(7), int64(12)\n",
      "memory usage: 100.2 KB\n"
     ]
    }
   ],
   "source": [
    "berka.info()"
   ]
  },
  {
   "cell_type": "code",
   "execution_count": 5,
   "metadata": {},
   "outputs": [
    {
     "name": "stdout",
     "output_type": "stream",
     "text": [
      "     amount  duration  payments  frequency  date_diff  card_type  no_orders  \\\n",
      "0    252060        60      4201   0.820475        232   0.753709          3   \n",
      "1    316140        60      5269   0.820475        683   0.753709          1   \n",
      "2    320976        48      6687   0.820475        251   0.194362          1   \n",
      "3    270648        36      7518   0.133531        307   0.753709          1   \n",
      "4    215388        36      5983   0.820475        156   0.753709          1   \n",
      "..      ...       ...       ...        ...        ...        ...        ...   \n",
      "669   73056        48      1522   0.820475        290   0.753709          3   \n",
      "670  253560        60      4226   0.820475        645   0.753709          1   \n",
      "671   73836        36      2051   0.820475        188   0.194362          3   \n",
      "672   91200        24      3800   0.820475        231   0.753709          2   \n",
      "673  123408        24      5142   0.045994        384   0.022255          5   \n",
      "\n",
      "     avg_order  avg_trans   avg_bal  no_of_trans  total_inhabitants  \\\n",
      "0      4194.73    6998.75  34002.08          444            1204953   \n",
      "1      5269.00    3866.65   9629.35          414            1204953   \n",
      "2      6687.00   13399.67  47205.48          301            1204953   \n",
      "3      7518.00    7433.61  44437.71          408            1204953   \n",
      "4      5983.00    7253.25  35553.19          399            1204953   \n",
      "..         ...        ...       ...          ...                ...   \n",
      "669    1772.00    2022.00  17913.51          294             119895   \n",
      "670    4226.50   10167.70  40490.78          126             119895   \n",
      "671    2447.67    8097.13  43375.65          335             119895   \n",
      "672    7039.40    7871.54  32920.44          415             119895   \n",
      "673    4004.80    7442.08  53253.45          322             119895   \n",
      "\n",
      "     avg_unemp_rt  avg_crime_rt  avg_salary  age_at_loan  gender  \\\n",
      "0            0.36         0.077       12541           29       1   \n",
      "1            0.36         0.077       12541           23       0   \n",
      "2            0.36         0.077       12541           56       0   \n",
      "3            0.36         0.077       12541           53       0   \n",
      "4            0.36         0.077       12541           30       0   \n",
      "..            ...           ...         ...          ...     ...   \n",
      "669          8.37         0.040       10446           21       0   \n",
      "670          8.37         0.040       10446           47       1   \n",
      "671          8.37         0.040       10446           28       1   \n",
      "672          8.37         0.040       10446           39       1   \n",
      "673          8.37         0.040       10446           28       0   \n",
      "\n",
      "     same_district  \n",
      "0                0  \n",
      "1                1  \n",
      "2                1  \n",
      "3                1  \n",
      "4                0  \n",
      "..             ...  \n",
      "669              1  \n",
      "670              1  \n",
      "671              1  \n",
      "672              1  \n",
      "673              1  \n",
      "\n",
      "[674 rows x 18 columns]\n"
     ]
    }
   ],
   "source": [
    "X = berka.iloc[:,:-1]\n",
    "y = berka['loan_status']\n",
    "print(X)"
   ]
  },
  {
   "cell_type": "code",
   "execution_count": 6,
   "metadata": {},
   "outputs": [
    {
     "data": {
      "text/plain": [
       "(539, 18)"
      ]
     },
     "execution_count": 6,
     "metadata": {},
     "output_type": "execute_result"
    }
   ],
   "source": [
    "X_train, X_test, y_train, y_test = train_test_split(X,y, test_size=0.2, random_state = 94)\n",
    "X_train.shape"
   ]
  },
  {
   "cell_type": "code",
   "execution_count": 16,
   "metadata": {},
   "outputs": [],
   "source": [
    "berka_SVM = svm.SVC(kernel='linear', gamma='auto', C=2)\n",
    "berka_SVM.fit(X_train, y_train)\n",
    "\n",
    "y_predict = berka_SVM.predict(X_test)"
   ]
  },
  {
   "cell_type": "code",
   "execution_count": 17,
   "metadata": {},
   "outputs": [
    {
     "data": {
      "text/html": [
       "<div>\n",
       "<style scoped>\n",
       "    .dataframe tbody tr th:only-of-type {\n",
       "        vertical-align: middle;\n",
       "    }\n",
       "\n",
       "    .dataframe tbody tr th {\n",
       "        vertical-align: top;\n",
       "    }\n",
       "\n",
       "    .dataframe thead th {\n",
       "        text-align: right;\n",
       "    }\n",
       "</style>\n",
       "<table border=\"1\" class=\"dataframe\">\n",
       "  <thead>\n",
       "    <tr style=\"text-align: right;\">\n",
       "      <th>col_0</th>\n",
       "      <th>0</th>\n",
       "      <th>1</th>\n",
       "    </tr>\n",
       "    <tr>\n",
       "      <th>loan_status</th>\n",
       "      <th></th>\n",
       "      <th></th>\n",
       "    </tr>\n",
       "  </thead>\n",
       "  <tbody>\n",
       "    <tr>\n",
       "      <th>0</th>\n",
       "      <td>118</td>\n",
       "      <td>2</td>\n",
       "    </tr>\n",
       "    <tr>\n",
       "      <th>1</th>\n",
       "      <td>10</td>\n",
       "      <td>5</td>\n",
       "    </tr>\n",
       "  </tbody>\n",
       "</table>\n",
       "</div>"
      ],
      "text/plain": [
       "col_0          0  1\n",
       "loan_status        \n",
       "0            118  2\n",
       "1             10  5"
      ]
     },
     "execution_count": 17,
     "metadata": {},
     "output_type": "execute_result"
    }
   ],
   "source": [
    "pd.crosstab(y_test,y_predict)"
   ]
  },
  {
   "cell_type": "code",
   "execution_count": 18,
   "metadata": {},
   "outputs": [
    {
     "name": "stdout",
     "output_type": "stream",
     "text": [
      "              precision    recall  f1-score   support\n",
      "\n",
      "           0       0.92      0.98      0.95       120\n",
      "           1       0.71      0.33      0.45        15\n",
      "\n",
      "    accuracy                           0.91       135\n",
      "   macro avg       0.82      0.66      0.70       135\n",
      "weighted avg       0.90      0.91      0.90       135\n",
      "\n"
     ]
    }
   ],
   "source": [
    "print(classification_report(y_test, y_predict))"
   ]
  },
  {
   "cell_type": "code",
   "execution_count": 12,
   "metadata": {},
   "outputs": [],
   "source": [
    "X_train_smote, y_train_smote = smote.fit_resample(X_train.astype('float'),y_train)"
   ]
  },
  {
   "cell_type": "code",
   "execution_count": 13,
   "metadata": {},
   "outputs": [
    {
     "name": "stdout",
     "output_type": "stream",
     "text": [
      "Before SMOTE : Counter({0: 480, 1: 59})\n",
      "After SMOTE : Counter({0: 480, 1: 480})\n"
     ]
    }
   ],
   "source": [
    "from collections import Counter\n",
    "print(\"Before SMOTE :\" , Counter(y_train))\n",
    "print(\"After SMOTE :\" , Counter(y_train_smote))"
   ]
  },
  {
   "cell_type": "code",
   "execution_count": 19,
   "metadata": {},
   "outputs": [],
   "source": [
    "berka_SVM_smote = svm.SVC(kernel='linear', gamma='auto', C=2)\n",
    "berka_SVM_smote.fit(X_train_smote,y_train_smote)\n",
    "\n",
    "y_predict_smote = berka_SVM_smote.predict(X_test)\n"
   ]
  },
  {
   "cell_type": "code",
   "execution_count": 20,
   "metadata": {},
   "outputs": [
    {
     "data": {
      "text/html": [
       "<div>\n",
       "<style scoped>\n",
       "    .dataframe tbody tr th:only-of-type {\n",
       "        vertical-align: middle;\n",
       "    }\n",
       "\n",
       "    .dataframe tbody tr th {\n",
       "        vertical-align: top;\n",
       "    }\n",
       "\n",
       "    .dataframe thead th {\n",
       "        text-align: right;\n",
       "    }\n",
       "</style>\n",
       "<table border=\"1\" class=\"dataframe\">\n",
       "  <thead>\n",
       "    <tr style=\"text-align: right;\">\n",
       "      <th>col_0</th>\n",
       "      <th>0</th>\n",
       "      <th>1</th>\n",
       "    </tr>\n",
       "    <tr>\n",
       "      <th>loan_status</th>\n",
       "      <th></th>\n",
       "      <th></th>\n",
       "    </tr>\n",
       "  </thead>\n",
       "  <tbody>\n",
       "    <tr>\n",
       "      <th>0</th>\n",
       "      <td>102</td>\n",
       "      <td>18</td>\n",
       "    </tr>\n",
       "    <tr>\n",
       "      <th>1</th>\n",
       "      <td>5</td>\n",
       "      <td>10</td>\n",
       "    </tr>\n",
       "  </tbody>\n",
       "</table>\n",
       "</div>"
      ],
      "text/plain": [
       "col_0          0   1\n",
       "loan_status         \n",
       "0            102  18\n",
       "1              5  10"
      ]
     },
     "execution_count": 20,
     "metadata": {},
     "output_type": "execute_result"
    }
   ],
   "source": [
    "pd.crosstab(y_test,y_predict_smote)"
   ]
  },
  {
   "cell_type": "code",
   "execution_count": 21,
   "metadata": {},
   "outputs": [
    {
     "name": "stdout",
     "output_type": "stream",
     "text": [
      "              precision    recall  f1-score   support\n",
      "\n",
      "           0       0.95      0.85      0.90       120\n",
      "           1       0.36      0.67      0.47        15\n",
      "\n",
      "    accuracy                           0.83       135\n",
      "   macro avg       0.66      0.76      0.68       135\n",
      "weighted avg       0.89      0.83      0.85       135\n",
      "\n"
     ]
    }
   ],
   "source": [
    "print(classification_report(y_test, y_predict_smote))"
   ]
  },
  {
   "cell_type": "code",
   "execution_count": null,
   "metadata": {},
   "outputs": [],
   "source": []
  }
 ],
 "metadata": {
  "kernelspec": {
   "display_name": "Python 3",
   "language": "python",
   "name": "python3"
  },
  "language_info": {
   "codemirror_mode": {
    "name": "ipython",
    "version": 3
   },
   "file_extension": ".py",
   "mimetype": "text/x-python",
   "name": "python",
   "nbconvert_exporter": "python",
   "pygments_lexer": "ipython3",
   "version": "3.8.3"
  }
 },
 "nbformat": 4,
 "nbformat_minor": 4
}
